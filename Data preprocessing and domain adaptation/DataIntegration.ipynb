{
 "cells": [
  {
   "cell_type": "code",
   "execution_count": null,
   "id": "bcef1371-8117-4217-9d29-09f534383362",
   "metadata": {},
   "outputs": [],
   "source": [
    "import pandas as pd\n",
    "\n",
    "# Load the datasets (replace 'path_to_your_dataset.csv' with the actual paths)\n",
    "financial_ledger_df = pd.read_csv('finLedger.csv')\n",
    "useeio_df = pd.read_csv('useeio.csv')\n",
    "\n",
    "# Display initial information about the datasets\n",
    "print(\"Financial Ledger Dataset Info:\")\n",
    "print(financial_ledger_df.info())\n",
    "print(\"\\nUSEEIO Dataset Info:\")\n",
    "print(useeio_df.info())\n",
    "\n",
    "# Identify common identifiers (e.g., NAICS codes)\n",
    "# Assuming both datasets have a column named 'naics_code'\n",
    "common_identifier = 'naics_code'\n",
    "\n",
    "# Ensure the common identifier columns are of the same type\n",
    "financial_ledger_df[common_identifier] = financial_ledger_df[common_identifier].astype(str)\n",
    "useeio_df[common_identifier] = useeio_df[common_identifier].astype(str)\n",
    "\n",
    "# Display unique values of the common identifier to verify alignment\n",
    "print(\"\\nUnique NAICS codes in Financial Ledger:\")\n",
    "print(financial_ledger_df[common_identifier].unique())\n",
    "print(\"\\nUnique NAICS codes in USEEIO Dataset:\")\n",
    "print(useeio_df[common_identifier].unique())\n",
    "\n",
    "# Merge the datasets based on the common identifier using an inner join\n",
    "# This ensures that only records with matching NAICS codes in both datasets are retained\n",
    "merged_df = pd.merge(financial_ledger_df, useeio_df, on=common_identifier, how='inner')\n",
    "\n",
    "# Display information about the merged dataset\n",
    "print(\"\\nMerged Dataset Info:\")\n",
    "print(merged_df.info())\n",
    "\n",
    "# Check for any remaining duplicate entries and remove them\n",
    "merged_df = merged_df.drop_duplicates()\n",
    "\n",
    "# Ensure data consistency by checking for missing values in critical columns\n",
    "critical_columns = ['amount', 'emission_factor', 'sector']\n",
    "merged_df = merged_df.dropna(subset=critical_columns)\n",
    "\n",
    "# Display the first few rows of the merged dataset to verify integration\n",
    "print(\"\\nFirst few rows of the merged dataset:\")\n",
    "print(merged_df.head())\n",
    "\n",
    "# Save the merged dataset\n",
    "merged_df.to_csv('merged_financial_ledger_useeio.csv', index=False)\n"
   ]
  },
  {
   "cell_type": "code",
   "execution_count": null,
   "id": "df6c4f13-7ba3-4fa8-9a90-d3a0a594fbc6",
   "metadata": {},
   "outputs": [],
   "source": []
  }
 ],
 "metadata": {
  "kernelspec": {
   "display_name": "Python 3 (ipykernel)",
   "language": "python",
   "name": "python3"
  },
  "language_info": {
   "codemirror_mode": {
    "name": "ipython",
    "version": 3
   },
   "file_extension": ".py",
   "mimetype": "text/x-python",
   "name": "python",
   "nbconvert_exporter": "python",
   "pygments_lexer": "ipython3",
   "version": "3.11.7"
  }
 },
 "nbformat": 4,
 "nbformat_minor": 5
}
